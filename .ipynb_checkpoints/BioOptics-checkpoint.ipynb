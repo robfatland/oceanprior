{
 "cells": [
  {
   "cell_type": "markdown",
   "id": "494664f7",
   "metadata": {},
   "source": [
    "### Before we get started...\n",
    "\n",
    "I invite you to look at the Python code in the next cell. It is a little *mysterious* but you might \n",
    "guess at what it does."
   ]
  },
  {
   "cell_type": "code",
   "execution_count": 2,
   "id": "2b9a3633",
   "metadata": {
    "scrolled": false
   },
   "outputs": [
    {
     "data": {
      "image/png": "[encoded data removed]",
      "text/plain": [
       "<Figure size 360x432 with 1 Axes>"
      ]
     },
     "metadata": {
      "needs_background": "light"
     },
     "output_type": "display_data"
    }
   ],
   "source": [
    "from matplotlib import pyplot as plt\n",
    "fig, axs = plt.subplots(figsize=(5,6), tight_layout=True)\n",
    "axs.plot([7, 6, 2, -1, 5, 0, 1, 2], [1, 2, 3, 4, 5, 6, 7, 8], marker='.', markersize=12, color='black', mfc='red')\n",
    "axs.set_title('some artificial data'); axs.set_ylabel('observation\\nnumber'); axs.set_xlabel('measurement'); plt.show()"
   ]
  },
  {
   "cell_type": "markdown",
   "id": "52dae8df",
   "metadata": {},
   "source": [
    "# Shallow Profiler context\n",
    "\n",
    "\n",
    "This notebook examines physical and bio-optical data from the Ocean Observatories Initiative (***OOI***)\n",
    "'Shallow Profiler' system, shown below. Notice the bulbous pod attached to the rectangular \n",
    "platform by means of a cable. The profiler ascends and then descends through the upper 200 meters\n",
    "of the ocean water column nine times per day, gathering data from several sensors in the process.\n",
    "\n",
    "\n",
    "<BR>\n",
    "<img src=\"./Images/rca/shallow%20profiler%20platform%201%20in%20situ.png\" style=\"float: left;\" alt=\"drawing\" width=\"400\"/>\n",
    "<div style=\"clear: left\"><BR>\n",
    "\n",
    "\n",
    "Above: Photo from the Remotely Operated Vehicle \"Ropos\", depth 200 meters, northeastern\n",
    "Pacific ocean.\n",
    "    \n",
    "The shallow profilers are one part of the Regional Cabled Array or ***RCA***. \n",
    "They are built and tested at the\n",
    "University of Washington.\n",
    "    \n",
    "<BR>\n",
    "<img src=\"./Images/rca/shallow%20profiler%20platform%202%20OSB%20pool.png\" style=\"float: left;\" alt=\"drawing\" width=\"400\"/>\n",
    "<div style=\"clear: left\"><BR>   \n",
    "    \n",
    "    \n",
    "    \n",
    "This Regional Cabled Array in turn is one of seven arrays across \n",
    "the global ocean that combined form the Ocean Observatories Initiative. \n",
    "    \n",
    "<BR>\n",
    "<img src=\"./Images/charts/OOI_array_map.png\" style=\"float: left;\" alt=\"drawing\" width=\"700\"/>\n",
    "<div style=\"clear: left\"><BR>   "
   ]
  },
  {
   "cell_type": "code",
   "execution_count": 7,
   "id": "649b85a1",
   "metadata": {},
   "outputs": [
    {
     "name": "stdout",
     "output_type": "stream",
     "text": [
      "For 2021, month of January, we have...\n",
      "31 days or 279 possible profiles\n",
      "There were, over this time, in fact...\n",
      "256 profiles; 28 at local midnight and 29 at local noon\n"
     ]
    },
    {
     "ename": "ValueError",
     "evalue": "found the following matches with the input file in xarray's IO backends: ['netcdf4', 'h5netcdf']. But their dependencies may not be installed, see:\nhttps://docs.xarray.dev/en/stable/user-guide/io.html \nhttps://docs.xarray.dev/en/stable/getting-started-guide/installing.html",
     "output_type": "error",
     "traceback": [
      "\u001b[0;31m---------------------------------------------------------------------------\u001b[0m",
      "\u001b[0;31mValueError\u001b[0m                                Traceback (most recent call last)",
      "Input \u001b[0;32mIn [7]\u001b[0m, in \u001b[0;36m<cell line: 2>\u001b[0;34m()\u001b[0m\n\u001b[1;32m      1\u001b[0m \u001b[38;5;66;03m# Set up this notebook to use code from an accompanying Python module file\u001b[39;00m\n\u001b[0;32m----> 2\u001b[0m \u001b[38;5;28;01mfrom\u001b[39;00m \u001b[38;5;21;01mBioOpticsModule\u001b[39;00m \u001b[38;5;28;01mimport\u001b[39;00m \u001b[38;5;241m*\u001b[39m\n\u001b[1;32m      3\u001b[0m \u001b[38;5;28mprint\u001b[39m(\u001b[38;5;124m'\u001b[39m\u001b[38;5;130;01m\\n\u001b[39;00m\u001b[38;5;124mJupyter Notebook running Python \u001b[39m\u001b[38;5;132;01m{}\u001b[39;00m\u001b[38;5;124m'\u001b[39m\u001b[38;5;241m.\u001b[39mformat(sys\u001b[38;5;241m.\u001b[39mversion_info[\u001b[38;5;241m0\u001b[39m]))\n",
      "File \u001b[0;32m~/ocean/BioOpticsModule.py:531\u001b[0m, in \u001b[0;36m<module>\u001b[0;34m\u001b[0m\n\u001b[1;32m    528\u001b[0m \u001b[38;5;28mprint\u001b[39m(\u001b[38;5;124m\"\u001b[39m\u001b[38;5;124mThere were, over this time, in fact...\u001b[39m\u001b[38;5;124m\"\u001b[39m)\n\u001b[1;32m    529\u001b[0m \u001b[38;5;28mprint\u001b[39m(nTotal, \u001b[38;5;124m'\u001b[39m\u001b[38;5;124mprofiles;\u001b[39m\u001b[38;5;124m'\u001b[39m, nMidn, \u001b[38;5;124m'\u001b[39m\u001b[38;5;124mat local midnight and\u001b[39m\u001b[38;5;124m'\u001b[39m, nNoon, \u001b[38;5;124m'\u001b[39m\u001b[38;5;124mat local noon\u001b[39m\u001b[38;5;124m'\u001b[39m)\n\u001b[0;32m--> 531\u001b[0m dsA, dsB, dsC, dsT, dsS, dsO, dsH, dsI, dsN, dsP, dsU, dsV, dsW \u001b[38;5;241m=\u001b[39m \u001b[43mReadOSB_March2021_1min\u001b[49m\u001b[43m(\u001b[49m\u001b[43m)\u001b[49m\n",
      "File \u001b[0;32m~/ocean/BioOpticsModule.py:307\u001b[0m, in \u001b[0;36mReadOSB_March2021_1min\u001b[0;34m()\u001b[0m\n\u001b[1;32m    304\u001b[0m \u001b[38;5;28;01mdef\u001b[39;00m \u001b[38;5;21mReadOSB_March2021_1min\u001b[39m():\n\u001b[1;32m    305\u001b[0m     data_source \u001b[38;5;241m=\u001b[39m os\u001b[38;5;241m.\u001b[39mgetcwd() \u001b[38;5;241m+\u001b[39m \u001b[38;5;124m'\u001b[39m\u001b[38;5;124m/RepositoryData/rca/\u001b[39m\u001b[38;5;124m'\u001b[39m\n\u001b[1;32m    306\u001b[0m     \u001b[38;5;28;01mreturn\u001b[39;00m                                                                         \\\n\u001b[0;32m--> 307\u001b[0m         \u001b[43mxr\u001b[49m\u001b[38;5;241;43m.\u001b[39;49m\u001b[43mopen_dataset\u001b[49m\u001b[43m(\u001b[49m\u001b[43mdata_source\u001b[49m\u001b[43m \u001b[49m\u001b[38;5;241;43m+\u001b[39;49m\u001b[43m \u001b[49m\u001b[38;5;124;43m'\u001b[39;49m\u001b[38;5;124;43mfluor/osb_chlora_march2021_1min.nc\u001b[39;49m\u001b[38;5;124;43m'\u001b[39;49m\u001b[43m)\u001b[49m,       \\\n\u001b[1;32m    308\u001b[0m         xr\u001b[38;5;241m.\u001b[39mopen_dataset(data_source \u001b[38;5;241m+\u001b[39m \u001b[38;5;124m'\u001b[39m\u001b[38;5;124mfluor/osb_backscatter_march2021_1min.nc\u001b[39m\u001b[38;5;124m'\u001b[39m),  \\\n\u001b[1;32m    309\u001b[0m         xr\u001b[38;5;241m.\u001b[39mopen_dataset(data_source \u001b[38;5;241m+\u001b[39m \u001b[38;5;124m'\u001b[39m\u001b[38;5;124mfluor/osb_cdom_march2021_1min.nc\u001b[39m\u001b[38;5;124m'\u001b[39m),         \\\n\u001b[1;32m    310\u001b[0m         xr\u001b[38;5;241m.\u001b[39mopen_dataset(data_source \u001b[38;5;241m+\u001b[39m \u001b[38;5;124m'\u001b[39m\u001b[38;5;124mctd/osb_temp_march2021_1min.nc\u001b[39m\u001b[38;5;124m'\u001b[39m),           \\\n\u001b[1;32m    311\u001b[0m         xr\u001b[38;5;241m.\u001b[39mopen_dataset(data_source \u001b[38;5;241m+\u001b[39m \u001b[38;5;124m'\u001b[39m\u001b[38;5;124mctd/osb_salinity_march2021_1min.nc\u001b[39m\u001b[38;5;124m'\u001b[39m),       \\\n\u001b[1;32m    312\u001b[0m         xr\u001b[38;5;241m.\u001b[39mopen_dataset(data_source \u001b[38;5;241m+\u001b[39m \u001b[38;5;124m'\u001b[39m\u001b[38;5;124mctd/osb_doxygen_march2021_1min.nc\u001b[39m\u001b[38;5;124m'\u001b[39m),        \\\n\u001b[1;32m    313\u001b[0m         xr\u001b[38;5;241m.\u001b[39mopen_dataset(data_source \u001b[38;5;241m+\u001b[39m \u001b[38;5;124m'\u001b[39m\u001b[38;5;124mpH/osb_ph_march2021_1min.nc\u001b[39m\u001b[38;5;124m'\u001b[39m),              \\\n\u001b[1;32m    314\u001b[0m         xr\u001b[38;5;241m.\u001b[39mopen_dataset(data_source \u001b[38;5;241m+\u001b[39m \u001b[38;5;124m'\u001b[39m\u001b[38;5;124mirrad/osb_spectir_march2021_1min.nc\u001b[39m\u001b[38;5;124m'\u001b[39m),      \\\n\u001b[1;32m    315\u001b[0m         xr\u001b[38;5;241m.\u001b[39mopen_dataset(data_source \u001b[38;5;241m+\u001b[39m \u001b[38;5;124m'\u001b[39m\u001b[38;5;124mnitrate/osb_nitrate_march2021_1min.nc\u001b[39m\u001b[38;5;124m'\u001b[39m),    \\\n\u001b[1;32m    316\u001b[0m         xr\u001b[38;5;241m.\u001b[39mopen_dataset(data_source \u001b[38;5;241m+\u001b[39m \u001b[38;5;124m'\u001b[39m\u001b[38;5;124mpar/osb_par_march2021_1min.nc\u001b[39m\u001b[38;5;124m'\u001b[39m),            \\\n\u001b[1;32m    317\u001b[0m         xr\u001b[38;5;241m.\u001b[39mopen_dataset(data_source \u001b[38;5;241m+\u001b[39m \u001b[38;5;124m'\u001b[39m\u001b[38;5;124mcurrent/osb_veast_march2021_1min.nc\u001b[39m\u001b[38;5;124m'\u001b[39m),      \\\n\u001b[1;32m    318\u001b[0m         xr\u001b[38;5;241m.\u001b[39mopen_dataset(data_source \u001b[38;5;241m+\u001b[39m \u001b[38;5;124m'\u001b[39m\u001b[38;5;124mcurrent/osb_vnorth_march2021_1min.nc\u001b[39m\u001b[38;5;124m'\u001b[39m),     \\\n\u001b[1;32m    319\u001b[0m         xr\u001b[38;5;241m.\u001b[39mopen_dataset(data_source \u001b[38;5;241m+\u001b[39m \u001b[38;5;124m'\u001b[39m\u001b[38;5;124mcurrent/osb_vup_march2021_1min.nc\u001b[39m\u001b[38;5;124m'\u001b[39m)\n",
      "File \u001b[0;32m~/miniconda3/lib/python3.9/site-packages/xarray/backends/api.py:479\u001b[0m, in \u001b[0;36mopen_dataset\u001b[0;34m(filename_or_obj, engine, chunks, cache, decode_cf, mask_and_scale, decode_times, decode_timedelta, use_cftime, concat_characters, decode_coords, drop_variables, backend_kwargs, *args, **kwargs)\u001b[0m\n\u001b[1;32m    476\u001b[0m     kwargs\u001b[38;5;241m.\u001b[39mupdate(backend_kwargs)\n\u001b[1;32m    478\u001b[0m \u001b[38;5;28;01mif\u001b[39;00m engine \u001b[38;5;129;01mis\u001b[39;00m \u001b[38;5;28;01mNone\u001b[39;00m:\n\u001b[0;32m--> 479\u001b[0m     engine \u001b[38;5;241m=\u001b[39m \u001b[43mplugins\u001b[49m\u001b[38;5;241;43m.\u001b[39;49m\u001b[43mguess_engine\u001b[49m\u001b[43m(\u001b[49m\u001b[43mfilename_or_obj\u001b[49m\u001b[43m)\u001b[49m\n\u001b[1;32m    481\u001b[0m backend \u001b[38;5;241m=\u001b[39m plugins\u001b[38;5;241m.\u001b[39mget_backend(engine)\n\u001b[1;32m    483\u001b[0m decoders \u001b[38;5;241m=\u001b[39m _resolve_decoders_kwargs(\n\u001b[1;32m    484\u001b[0m     decode_cf,\n\u001b[1;32m    485\u001b[0m     open_backend_dataset_parameters\u001b[38;5;241m=\u001b[39mbackend\u001b[38;5;241m.\u001b[39mopen_dataset_parameters,\n\u001b[0;32m   (...)\u001b[0m\n\u001b[1;32m    491\u001b[0m     decode_coords\u001b[38;5;241m=\u001b[39mdecode_coords,\n\u001b[1;32m    492\u001b[0m )\n",
      "File \u001b[0;32m~/miniconda3/lib/python3.9/site-packages/xarray/backends/plugins.py:148\u001b[0m, in \u001b[0;36mguess_engine\u001b[0;34m(store_spec)\u001b[0m\n\u001b[1;32m    140\u001b[0m \u001b[38;5;28;01melse\u001b[39;00m:\n\u001b[1;32m    141\u001b[0m     error_msg \u001b[38;5;241m=\u001b[39m (\n\u001b[1;32m    142\u001b[0m         \u001b[38;5;124m\"\u001b[39m\u001b[38;5;124mfound the following matches with the input file in xarray\u001b[39m\u001b[38;5;124m'\u001b[39m\u001b[38;5;124ms IO \u001b[39m\u001b[38;5;124m\"\u001b[39m\n\u001b[1;32m    143\u001b[0m         \u001b[38;5;124mf\u001b[39m\u001b[38;5;124m\"\u001b[39m\u001b[38;5;124mbackends: \u001b[39m\u001b[38;5;132;01m{\u001b[39;00mcompatible_engines\u001b[38;5;132;01m}\u001b[39;00m\u001b[38;5;124m. But their dependencies may not be installed, see:\u001b[39m\u001b[38;5;130;01m\\n\u001b[39;00m\u001b[38;5;124m\"\u001b[39m\n\u001b[1;32m    144\u001b[0m         \u001b[38;5;124m\"\u001b[39m\u001b[38;5;124mhttps://docs.xarray.dev/en/stable/user-guide/io.html \u001b[39m\u001b[38;5;130;01m\\n\u001b[39;00m\u001b[38;5;124m\"\u001b[39m\n\u001b[1;32m    145\u001b[0m         \u001b[38;5;124m\"\u001b[39m\u001b[38;5;124mhttps://docs.xarray.dev/en/stable/getting-started-guide/installing.html\u001b[39m\u001b[38;5;124m\"\u001b[39m\n\u001b[1;32m    146\u001b[0m     )\n\u001b[0;32m--> 148\u001b[0m \u001b[38;5;28;01mraise\u001b[39;00m \u001b[38;5;167;01mValueError\u001b[39;00m(error_msg)\n",
      "\u001b[0;31mValueError\u001b[0m: found the following matches with the input file in xarray's IO backends: ['netcdf4', 'h5netcdf']. But their dependencies may not be installed, see:\nhttps://docs.xarray.dev/en/stable/user-guide/io.html \nhttps://docs.xarray.dev/en/stable/getting-started-guide/installing.html"
     ]
    }
   ],
   "source": [
    "# Set up this notebook to use code from an accompanying Python module file\n",
    "from BioOpticsModule import *\n",
    "print('\\nJupyter Notebook running Python {}'.format(sys.version_info[0]))"
   ]
  },
  {
   "cell_type": "markdown",
   "id": "4747751d",
   "metadata": {},
   "source": [
    "## Profiles\n",
    "\n",
    "Nine profiles are run daily. Two of these nine, the ones at midnight and noon, make pauses\n",
    "during the descent. This enables some of the sensors to equilibrate before recording data.\n",
    "The site of the data discussed here is ***Oregon Slope Base***. \n",
    "It is located at the base of the continental shelf.\n",
    "To emphasize: At this site the sea floor is 3000 meters below the surface.\n",
    "However the Shallow Profiler operates only\n",
    "in the top 200 meters of the water column. \n",
    "This chart shows the daily profiling sequence."
   ]
  },
  {
   "cell_type": "code",
   "execution_count": null,
   "id": "3f300634",
   "metadata": {},
   "outputs": [],
   "source": [
    "ShallowProfilerDepthOneDay(dsT, '2021-03-01', '2021-03-02', 'Shallow Profiler depth: Over one day')"
   ]
  },
  {
   "cell_type": "markdown",
   "id": "a3cf0d16",
   "metadata": {},
   "source": [
    "# Data\n",
    "\n",
    "We begin charting profile data with dissolved oxygen (blue) and chlorophyll (green). "
   ]
  },
  {
   "cell_type": "code",
   "execution_count": null,
   "id": "7fbeb7e4",
   "metadata": {
    "scrolled": false
   },
   "outputs": [],
   "source": [
    "# Dissolved oxygen and chlorophyll-a concentrations over 10 days, alternating midnight/noon\n",
    "pIdcs = [506, 511, 515, 520, 524, 529, 533, 538, 542, 547, 551, 556, 560, 565, 569, 574, 578, 583, 587, 592] \n",
    "fig, axs = ChartAB(pDf21, [(do_lo, do_hi), (chlora_lo, chlora_hi)], pIdcs, dsO.doxygen, dsO.z, \\\n",
    "           'Oxygen', 'blue', dsA.chlora, dsA.z, 'Chlor-A', 'green', 8, 3.5)"
   ]
  },
  {
   "cell_type": "markdown",
   "id": "6aa9fe36",
   "metadata": {},
   "source": [
    "## Comparison\n",
    "\n",
    "The data above are from ascents: Instruments face upward into relatively undisturbed water as the profiler rises. \n",
    "\n",
    "\n",
    "- Oxygen profiles are fairly consistent and stable over ten days\n",
    "- Chlorophyll has larger variation but trends appear consistent\n",
    "- Chlorophyll features more data dropouts, typically somewhere in the 45 to 85 meter depth range\n",
    "- Chlorophyll is either flat with depth at the top of the profile or shows a distinct drop-off\n",
    "- The transition from mixed layer to pycnocline is consistent between oxygen and chlorophyll \n",
    "\n",
    "\n",
    "## Extension to six signals\n",
    "\n",
    "\n",
    "To oxygen and chlorophyll we now add profiler ascent data for \n",
    "temperature, salinity, dissolved organic fluorescence (FDOM), \n",
    "and particle backscatter (bb700). FDOM is sometimes labeled CDOM. \n",
    "The data (T / S / DO / CDOM / Chlor-A / bb700) are placed across \n",
    "three horizontally spaced charts. Vertical sequence is again a time series of profiles."
   ]
  },
  {
   "cell_type": "code",
   "execution_count": null,
   "id": "dba3eb98",
   "metadata": {
    "scrolled": false
   },
   "outputs": [],
   "source": [
    "profile_indices = [506, 511, 515, 520]  # (...524,529,533,538,542,547,551,556,560,565,569,574,578,583,587,592] \n",
    "fig, axs = SixSignalChartSequence(pDf21, dsA, dsB, dsC, dsO, dsS, dsT, \\\n",
    "            [(temp_lo, temp_hi), (salinity_lo, salinity_hi), (do_lo, do_hi), (chlora_lo, chlora_hi), \\\n",
    "             (backscatter_lo, backscatter_hi), (cdom_lo, cdom_hi)], profile_indices)"
   ]
  },
  {
   "cell_type": "markdown",
   "id": "b81cd1a7",
   "metadata": {},
   "source": [
    "#### Additional sensor/data types\n",
    "\n",
    "\n",
    "```\n",
    "Sensor                               Remarks\n",
    "pCO2                                 Carbon dioxide concentration: Data not present\n",
    "pH                                   Only measured on midnight/noon descent\n",
    "nitrate                              Only measured on midnight/noon ascent\n",
    "spectral irradiance                  Spectrum covered by 7 independent channels\n",
    "PAR                                  Photosynthetically Available Radiation, key: 'parad'\n",
    "Velocity East + North + Up           Local current speed and direction\n",
    "```\n",
    "\n",
    "# Energy and Nutrients"
   ]
  },
  {
   "cell_type": "code",
   "execution_count": null,
   "id": "92124292",
   "metadata": {
    "scrolled": false
   },
   "outputs": [],
   "source": [
    "pIdcs = GenerateTimeWindowIndices(pDf21, dt64_from_doy(2021, 60), dt64_from_doy(2021, 70), noon0, noon1)\n",
    "fig, axs = ChartAB(pDf21, [(par_lo, par_hi), (nitrate_lo, nitrate_hi)], pIdcs, dsP.par, dsP.z, \\\n",
    "                   'PAR', 'black', dsN.nitrate, dsN.z, 'Nitrate', 'red', 8, 3.5)"
   ]
  },
  {
   "cell_type": "code",
   "execution_count": null,
   "id": "399f590a",
   "metadata": {
    "scrolled": false
   },
   "outputs": [],
   "source": [
    "pIdcs = GenerateTimeWindowIndices(pDf21, dt64_from_doy(2021, 68), dt64_from_doy(2021, 73), noon0, noon1)\n",
    "fig, axs = ChartAB(pDf21, [(-5., 30.), (-.2, 2.)], pIdcs, dsI.si412, dsI.z, 'Sp.Irr.412', 'blue', \\\n",
    "                   dsI.si683, dsI.z, 'Sp.Irr.683', 'red', 8, 3.5)"
   ]
  },
  {
   "cell_type": "markdown",
   "id": "97faa2a9",
   "metadata": {},
   "source": [
    "### Current measurement\n",
    "\n",
    "From the [documentation](https://interactiveoceans.washington.edu/instruments/current-meter/): \n",
    "\n",
    "> The Shallow Profilers at Oregon Offshore, Slope Base, and the Axial Base sites \\[...\\] measure the mean speed and direction of water in two-dimensions (U & V) as it moves past the sensor\n",
    "\n",
    "We can interpret water column velocities as a current moving past\n",
    "the profiler plus a velocity component that changes with depth. This difference has\n",
    "magnitude $|\\vec{a}-\\vec{b}|$. The difference of horizontal velocities \n",
    "at two depths is *shear*.\n"
   ]
  },
  {
   "cell_type": "code",
   "execution_count": null,
   "id": "fbcb57a9",
   "metadata": {
    "scrolled": false
   },
   "outputs": [],
   "source": [
    "xrng = [(veast_lo, veast_hi), (vnorth_lo, vnorth_hi)]\n",
    "pIdcs = GenerateTimeWindowIndices(pDf21, dt64_from_doy(2021, 60), dt64_from_doy(2021, 62), noon0, noon1)\n",
    "fig, axs = ChartAB(pDf21, xrng, pIdcs, dsU.veast, dsU.z, 'Velocity East', 'green', \\\n",
    "                   dsV.vnorth, dsV.z, 'Velocity North', 'orange', 8, 3.5)"
   ]
  },
  {
   "cell_type": "markdown",
   "id": "06f045c6",
   "metadata": {},
   "source": [
    "## Animating time-series sensor profiles\n",
    "\n",
    "This animation runs from March 1 2021 forward, nine frames per day. The playback speed control is at the lower right."
   ]
  },
  {
   "cell_type": "code",
   "execution_count": null,
   "id": "52511c57",
   "metadata": {},
   "outputs": [],
   "source": [
    "Video(os.getcwd() + '/Images/animations/multisensor_animation.mp4', embed=True)"
   ]
  },
  {
   "cell_type": "markdown",
   "id": "28fe3fe8",
   "metadata": {},
   "source": [
    "# Bundle Charts\n",
    "\n",
    "The time-series breakdowns shown above suggest: What is the distribution of profile charts for a given sensor\n",
    "over time? We will do this next using the same month of March 2021 at Oregon Slope Base."
   ]
  },
  {
   "cell_type": "code",
   "execution_count": null,
   "id": "4564ca45",
   "metadata": {
    "scrolled": false
   },
   "outputs": [],
   "source": [
    "ChartOneSensor(pDf21, dt64_from_doy(2021, 60), dt64_from_doy(2021, 91), td64(0, 'h'), td64(24, 'h'), 10, 8, \\\n",
    "               'blue', 80, 300, -200, 0, dsO.doxygen, dsO.z, 'Oxygen')\n",
    "\n",
    "ChartOneSensor(pDf21, dt64_from_doy(2021, 60), dt64_from_doy(2021, 91), td64(0, 'h'), td64(24, 'h'), 10, 8, \\\n",
    "               'black', 7, 11, -200, 0, dsT.temp, dsT.z, 'Temperature')\n",
    "\n",
    "ChartOneSensor(pDf21, dt64_from_doy(2021, 60), dt64_from_doy(2021, 91), td64(0, 'h'), td64(24, 'h'), 10, 8, \\\n",
    "               'orange', 31, 34.2, -200, 0, dsS.salinity, dsS.z, 'Salinity')\n",
    "\n",
    "ChartOneSensor(pDf21, dt64_from_doy(2021, 60), dt64_from_doy(2021, 91), td64(0, 'h'), td64(24, 'h'), 10, 8, \\\n",
    "               'green', -.06, 1.6, -200, 0, dsA.chlora, dsA.z, 'Chlorophyll')\n",
    "\n",
    "ChartOneSensor(pDf21, dt64_from_doy(2021, 60), dt64_from_doy(2021, 91), td64(0, 'h'), td64(24, 'h'), 10, 8, \\\n",
    "               'purple', .0, 1.4, -200, 0, dsC.cdom, dsC.z, 'Fluorescence')\n",
    "\n",
    "ChartOneSensor(pDf21, dt64_from_doy(2021, 60), dt64_from_doy(2021, 91), td64(0, 'h'), td64(24, 'h'), 10, 8, \\\n",
    "               'cyan', .0005, .0030, -200, 0, dsB.backscatter, dsB.z, 'Particulate Backscatter')"
   ]
  },
  {
   "cell_type": "markdown",
   "id": "26472fe1",
   "metadata": {},
   "source": [
    "# Slider bundle charts\n",
    "\n",
    "The next idea is to control the bundle start point and the number of profiles with two sliders. \n",
    "This gives a view into whether structures in the full month view (above) are grouped together \n",
    "in time, particularly in the upper water column."
   ]
  },
  {
   "cell_type": "code",
   "execution_count": null,
   "id": "ae318d9a",
   "metadata": {},
   "outputs": [],
   "source": [
    "from ipywidgets import *\n",
    "from traitlets import dlink\n",
    "\n",
    "interact(TemperatureTimeBundleChart, time_index = widgets.IntSlider(min=0, max=270, step=1, value=0,           \\\n",
    "                                                                continuous_update=False, description='T time'),  \\\n",
    "                                bundle_size = widgets.IntSlider(min=1, max=80, step=1, value=1,                \\\n",
    "                                                                continuous_update=False, description='T bundle'))\n",
    "\n",
    "interact(SalinityTimeBundleChart, time_index = widgets.IntSlider(min=0, max=270, step=1, value=0,                \\\n",
    "                                                                continuous_update=False, description='S time'),  \\\n",
    "                                bundle_size = widgets.IntSlider(min=1, max=80, step=1, value=1,                  \\\n",
    "                                                                continuous_update=False, description='S bundle'))"
   ]
  }
 ],
 "metadata": {
  "kernelspec": {
   "display_name": "Python 3 (ipykernel)",
   "language": "python",
   "name": "python3"
  },
  "language_info": {
   "codemirror_mode": {
    "name": "ipython",
    "version": 3
   },
   "file_extension": ".py",
   "mimetype": "text/x-python",
   "name": "python",
   "nbconvert_exporter": "python",
   "pygments_lexer": "ipython3",
   "version": "3.9.12"
  }
 },
 "nbformat": 4,
 "nbformat_minor": 5
}
