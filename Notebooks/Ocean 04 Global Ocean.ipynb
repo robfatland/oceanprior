{
 "cells": [
  {
   "cell_type": "markdown",
   "id": "severe-church",
   "metadata": {},
   "source": [
    "# Global Ocean Data Analysis Project\n",
    "\n",
    "\n",
    "(This will not run in binder: It uses an external dataset that is not wired up just yet.)\n",
    "\n",
    "\n",
    "The [GLODAP](https://en.wikipedia.org/wiki/Global_Ocean_Data_Analysis_Project) \n",
    "global ocean dataset compiles several decades of observation. It is a geological instant snapshot of\n",
    "heat, oxygen and salinity (saltiness) throughout the ocean. We also have nitrate and carbon dioxide.\n",
    "\n",
    "\n",
    "Moving the sliders for each chart selects for depth, as shown at the bottom left."
   ]
  },
  {
   "cell_type": "code",
   "execution_count": 4,
   "id": "julian-writer",
   "metadata": {
    "scrolled": false
   },
   "outputs": [
    {
     "name": "stdout",
     "output_type": "stream",
     "text": [
      "\n",
      "Jupyter Notebook running Python 3\n"
     ]
    },
    {
     "data": {
      "application/vnd.jupyter.widget-view+json": {
       "model_id": "e131c695acd2444399f67329c0d21015",
       "version_major": 2,
       "version_minor": 0
      },
      "text/plain": [
       "interactive(children=(IntSlider(value=0, continuous_update=False, description='depth', max=32), Output()), _do…"
      ]
     },
     "metadata": {},
     "output_type": "display_data"
    },
    {
     "data": {
      "application/vnd.jupyter.widget-view+json": {
       "model_id": "9cbb31a2752c42d991e1001388150953",
       "version_major": 2,
       "version_minor": 0
      },
      "text/plain": [
       "interactive(children=(IntSlider(value=0, continuous_update=False, description='depth', max=32), Output()), _do…"
      ]
     },
     "metadata": {},
     "output_type": "display_data"
    },
    {
     "data": {
      "application/vnd.jupyter.widget-view+json": {
       "model_id": "19f1ce429516466e91db63bbcbf88b12",
       "version_major": 2,
       "version_minor": 0
      },
      "text/plain": [
       "interactive(children=(IntSlider(value=0, continuous_update=False, description='depth', max=32), Output()), _do…"
      ]
     },
     "metadata": {},
     "output_type": "display_data"
    },
    {
     "data": {
      "application/vnd.jupyter.widget-view+json": {
       "model_id": "9a9c6d81623c48c5a67b6c5472e57987",
       "version_major": 2,
       "version_minor": 0
      },
      "text/plain": [
       "interactive(children=(IntSlider(value=0, continuous_update=False, description='depth', max=32), Output()), _do…"
      ]
     },
     "metadata": {},
     "output_type": "display_data"
    },
    {
     "data": {
      "application/vnd.jupyter.widget-view+json": {
       "model_id": "012708b2acb84f5d9335864084d4a772",
       "version_major": 2,
       "version_minor": 0
      },
      "text/plain": [
       "interactive(children=(IntSlider(value=0, continuous_update=False, description='depth', max=32), Output()), _do…"
      ]
     },
     "metadata": {},
     "output_type": "display_data"
    },
    {
     "data": {
      "text/plain": [
       "<function __main__.glodap_pTCO2(depth_index)>"
      ]
     },
     "execution_count": 4,
     "metadata": {},
     "output_type": "execute_result"
    }
   ],
   "source": [
    "import os, sys, time, glob, warnings, cmocean\n",
    "\n",
    "# from IPython.display import clear_output             # use inside loop with clear_output(wait = True) followed by print(i)\n",
    "warnings.filterwarnings('ignore')\n",
    "\n",
    "this_dir = os.getcwd()\n",
    "data_dir = '/data/'                    # fix this\n",
    "\n",
    "from matplotlib import pyplot as plt\n",
    "from matplotlib import colors as mplcolors\n",
    "import numpy as np, pandas as pd, xarray as xr\n",
    "from ipywidgets import *\n",
    "from traitlets import dlink\n",
    "\n",
    "print('\\nJupyter Notebook running Python {}'.format(sys.version_info[0]))\n",
    "\n",
    "%matplotlib notebook\n",
    "\n",
    "temperatureFnm = '../../data/glodap/glodap_temperature.nc'\n",
    "salinityFnm    = '../../data/glodap/glodap_salinity.nc'\n",
    "oxygenFnm      = '../../data/glodap/glodap_oxygen.nc'\n",
    "NO3Fnm         = '../../data/glodap/glodap_NO3.nc'\n",
    "TCO2Fnm        = '../../data/glodap/glodap_TCO2.nc'\n",
    "\n",
    "dsSal  = xr.open_dataset(salinityFnm)\n",
    "dsTemp = xr.open_dataset(temperatureFnm)\n",
    "dsO2   = xr.open_dataset(oxygenFnm)\n",
    "dsNO3  = xr.open_dataset(NO3Fnm)\n",
    "dsTCO2 = xr.open_dataset(TCO2Fnm)\n",
    "\n",
    "plt.rcParams.update({'font.size': 16})\n",
    "\n",
    "def glodap_pO2(depth_index):\n",
    "    dsO2['oxygen'].sel(depth_surface = depth_index).plot(figsize=(10.4, 6),cmap=cmocean.cm.oxy,vmin=150, vmax=350)\n",
    "    plt.ylabel(None); plt.xlabel(None)\n",
    "    if depth_index == 0: msg = 'This is for surface water'\n",
    "    else:                msg = 'This is for water at ' + str(int(dsO2['Depth'].values[depth_index])) + ' meters depth'\n",
    "    plt.text(25, -87, msg); plt.text(28, 50, 'oxygen dissolved in'); plt.text(28, 42, '     ocean water   ')\n",
    "\n",
    "def glodap_pSal(depth_index):\n",
    "    dsSal['salinity'].sel(depth_surface = depth_index).plot(figsize=(10.4, 6),cmap=cmocean.cm.haline,vmin=33, vmax=36)\n",
    "    plt.ylabel(None); plt.xlabel(None)\n",
    "    if depth_index == 0:msg = 'This is for surface water'\n",
    "    else: msg = 'This is for water at ' + str(int(dsSal['Depth'].values[depth_index])) + ' meters depth'\n",
    "    plt.text(25, -87, msg); plt.text(47, 50, 'salinity of'); plt.text(47, 42, 'ocean water')\n",
    "\n",
    "def glodap_pTemp(depth_index):\n",
    "    dsTemp['temperature'].sel(depth_surface = depth_index).plot(figsize=(10.4, 6),cmap=cmocean.cm.thermal,vmin=2., vmax=12.)\n",
    "    plt.ylabel(None); plt.xlabel(None)\n",
    "    if depth_index == 0: msg = 'This is for surface water'\n",
    "    else: msg = 'This is for water at ' + str(int(dsTemp['Depth'].values[depth_index])) + ' meters depth'\n",
    "    plt.text(25, -87, msg); plt.text(47, 50, 'temperature of'); plt.text(47, 42, 'ocean water')\n",
    "    \n",
    "def glodap_pNO3(depth_index):\n",
    "    dsNO3['NO3'].sel(depth_surface = depth_index).plot(figsize=(10.4, 6),cmap=cmocean.cm.algae,vmin=2., vmax=40.)\n",
    "    plt.ylabel(None); plt.xlabel(None)\n",
    "    if depth_index == 0: msg = 'This is for surface water'\n",
    "    else: msg = 'This is for water at ' + str(int(dsNO3['Depth'].values[depth_index])) + ' meters depth'\n",
    "    plt.text(25, -87, msg); plt.text(47, 50, 'nitrate in'); plt.text(47, 42, 'ocean water')\n",
    "\n",
    "def glodap_pTCO2(depth_index):\n",
    "    dsTCO2['TCO2'].sel(depth_surface = depth_index).plot(figsize=(10.4, 6), cmap=cmocean.cm.delta, vmin=2000., vmax=2500.)\n",
    "    plt.ylabel(None); plt.xlabel(None)\n",
    "    if depth_index == 0: msg = 'This is for surface water'\n",
    "    else: msg = 'This is for water at ' + str(int(dsTCO2['Depth'].values[depth_index])) + ' meters depth'\n",
    "    plt.text(25, -87, msg); plt.text(47, 50, 'carbon dioxide in'); plt.text(47, 42, 'ocean water')\n",
    "\n",
    "interact(glodap_pO2,   depth_index=widgets.IntSlider(min=0, max=32, step=1, value=0, continuous_update=False, description='depth'))\n",
    "interact(glodap_pSal,  depth_index=widgets.IntSlider(min=0, max=32, step=1, value=0, continuous_update=False, description='depth'))\n",
    "interact(glodap_pTemp, depth_index=widgets.IntSlider(min=0, max=32, step=1, value=0, continuous_update=False, description='depth'))\n",
    "interact(glodap_pNO3,  depth_index=widgets.IntSlider(min=0, max=32, step=1, value=0, continuous_update=False, description='depth'))\n",
    "interact(glodap_pTCO2, depth_index=widgets.IntSlider(min=0, max=32, step=1, value=0, continuous_update=False, description='depth'))\n"
   ]
  },
  {
   "cell_type": "markdown",
   "id": "0622f4ee",
   "metadata": {},
   "source": [
    "## Set the slider above to 28\n",
    "\n",
    "Compare with the mid-ocean ridges shown here.\n",
    "\n",
    "\n",
    "<BR>\n",
    "<img src=\"./../Images/charts/lithosphere_age.png\" style=\"float: left;\" alt=\"drawing\" width=\"800\"/>\n",
    "<div style=\"clear: left\"><BR>"
   ]
  },
  {
   "cell_type": "code",
   "execution_count": null,
   "id": "f73d9c25",
   "metadata": {},
   "outputs": [],
   "source": []
  }
 ],
 "metadata": {
  "kernelspec": {
   "display_name": "Python 3 (ipykernel)",
   "language": "python",
   "name": "python3"
  },
  "language_info": {
   "codemirror_mode": {
    "name": "ipython",
    "version": 3
   },
   "file_extension": ".py",
   "mimetype": "text/x-python",
   "name": "python",
   "nbconvert_exporter": "python",
   "pygments_lexer": "ipython3",
   "version": "3.8.5"
  }
 },
 "nbformat": 4,
 "nbformat_minor": 5
}
