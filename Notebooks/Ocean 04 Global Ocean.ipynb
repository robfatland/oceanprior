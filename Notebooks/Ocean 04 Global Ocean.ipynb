{
 "cells": [
  {
   "cell_type": "markdown",
   "id": "severe-church",
   "metadata": {},
   "source": [
    "# Introduction\n",
    "\n",
    "\\*not binder-compatible\n",
    "\n",
    "This notebook explores the [GLODAP](https://en.wikipedia.org/wiki/Global_Ocean_Data_Analysis_Project) \n",
    "global ocean dataset. From several decades of observations, GLODAP gives us a snapshot of\n",
    "heat, oxygen and salt levels throughout the ocean. In addition we have nitrate and carbon dioxide concentration\n",
    "estimates.\n",
    "Moving the sliders for each chart selects depth, shown at the bottom left."
   ]
  },
  {
   "cell_type": "code",
   "execution_count": 1,
   "id": "julian-writer",
   "metadata": {},
   "outputs": [
    {
     "name": "stdout",
     "output_type": "stream",
     "text": [
      "\n",
      "Jupyter Notebook running Python 3\n"
     ]
    }
   ],
   "source": [
    "import os, sys, time, glob, warnings, cmocean\n",
    "\n",
    "# from IPython.display import clear_output             # use inside loop with clear_output(wait = True) followed by print(i)\n",
    "warnings.filterwarnings('ignore')\n",
    "\n",
    "this_dir = os.getcwd()\n",
    "data_dir = '/data/'                    # fix this\n",
    "\n",
    "from matplotlib import pyplot as plt\n",
    "from matplotlib import colors as mplcolors\n",
    "import numpy as np, pandas as pd, xarray as xr\n",
    "from ipywidgets import *\n",
    "from traitlets import dlink\n",
    "\n",
    "print('\\nJupyter Notebook running Python {}'.format(sys.version_info[0]))"
   ]
  },
  {
   "cell_type": "code",
   "execution_count": 2,
   "id": "bff5cfb4",
   "metadata": {},
   "outputs": [],
   "source": [
    "%matplotlib notebook"
   ]
  },
  {
   "cell_type": "code",
   "execution_count": 7,
   "id": "peripheral-correlation",
   "metadata": {
    "scrolled": false
   },
   "outputs": [
    {
     "data": {
      "application/vnd.jupyter.widget-view+json": {
       "model_id": "a5a323bbf112492085a8e639971cea74",
       "version_major": 2,
       "version_minor": 0
      },
      "text/plain": [
       "interactive(children=(IntSlider(value=0, continuous_update=False, description='depth', max=32), Output()), _do…"
      ]
     },
     "metadata": {},
     "output_type": "display_data"
    },
    {
     "data": {
      "application/vnd.jupyter.widget-view+json": {
       "model_id": "3016005d7744446abf9f337e615627e5",
       "version_major": 2,
       "version_minor": 0
      },
      "text/plain": [
       "interactive(children=(IntSlider(value=0, continuous_update=False, description='depth', max=32), Output()), _do…"
      ]
     },
     "metadata": {},
     "output_type": "display_data"
    },
    {
     "data": {
      "application/vnd.jupyter.widget-view+json": {
       "model_id": "b1600dc2ed92404d893d059d22fbf096",
       "version_major": 2,
       "version_minor": 0
      },
      "text/plain": [
       "interactive(children=(IntSlider(value=0, continuous_update=False, description='depth', max=32), Output()), _do…"
      ]
     },
     "metadata": {},
     "output_type": "display_data"
    },
    {
     "data": {
      "application/vnd.jupyter.widget-view+json": {
       "model_id": "5c66d2b2aa494ce1883e76c6800ecd0a",
       "version_major": 2,
       "version_minor": 0
      },
      "text/plain": [
       "interactive(children=(IntSlider(value=0, continuous_update=False, description='depth', max=32), Output()), _do…"
      ]
     },
     "metadata": {},
     "output_type": "display_data"
    },
    {
     "data": {
      "application/vnd.jupyter.widget-view+json": {
       "model_id": "cde78d92ce3b434082cc48149b796623",
       "version_major": 2,
       "version_minor": 0
      },
      "text/plain": [
       "interactive(children=(IntSlider(value=0, continuous_update=False, description='depth', max=32), Output()), _do…"
      ]
     },
     "metadata": {},
     "output_type": "display_data"
    },
    {
     "data": {
      "text/plain": [
       "<function __main__.glodap_pTCO2(depth_index)>"
      ]
     },
     "execution_count": 7,
     "metadata": {},
     "output_type": "execute_result"
    }
   ],
   "source": [
    "temperatureFnm = '../../data/glodap/glodap_temperature.nc'\n",
    "salinityFnm    = '../../data/glodap/glodap_salinity.nc'\n",
    "oxygenFnm      = '../../data/glodap/glodap_oxygen.nc'\n",
    "NO3Fnm         = '../../data/glodap/glodap_NO3.nc'\n",
    "TCO2Fnm        = '../../data/glodap/glodap_TCO2.nc'\n",
    "\n",
    "dsSal  = xr.open_dataset(salinityFnm)\n",
    "dsTemp = xr.open_dataset(temperatureFnm)\n",
    "dsO2   = xr.open_dataset(oxygenFnm)\n",
    "dsNO3  = xr.open_dataset(NO3Fnm)\n",
    "dsTCO2 = xr.open_dataset(TCO2Fnm)\n",
    "\n",
    "plt.rcParams.update({'font.size': 16})\n",
    "\n",
    "def glodap_pO2(depth_index):\n",
    "    dsO2['oxygen'].sel(depth_surface = depth_index).plot(figsize=(10.4, 6),cmap=cmocean.cm.oxy,vmin=150, vmax=350)\n",
    "    plt.ylabel(None); plt.xlabel(None)\n",
    "    if depth_index == 0: msg = 'This is for surface water'\n",
    "    else:                msg = 'This is for water at ' + str(int(dsO2['Depth'].values[depth_index])) + ' meters depth'\n",
    "    plt.text(25, -87, msg); plt.text(28, 50, 'oxygen dissolved in'); plt.text(28, 42, '     ocean water   ')\n",
    "\n",
    "def glodap_pSal(depth_index):\n",
    "    dsSal['salinity'].sel(depth_surface = depth_index).plot(figsize=(10.4, 6),cmap=cmocean.cm.haline,vmin=33, vmax=36)\n",
    "    plt.ylabel(None); plt.xlabel(None)\n",
    "    if depth_index == 0:msg = 'This is for surface water'\n",
    "    else: msg = 'This is for water at ' + str(int(dsSal['Depth'].values[depth_index])) + ' meters depth'\n",
    "    plt.text(25, -87, msg); plt.text(47, 50, 'salinity of'); plt.text(47, 42, 'ocean water')\n",
    "\n",
    "def glodap_pTemp(depth_index):\n",
    "    dsTemp['temperature'].sel(depth_surface = depth_index).plot(figsize=(10.4, 6),cmap=cmocean.cm.thermal,vmin=2., vmax=12.)\n",
    "    plt.ylabel(None); plt.xlabel(None)\n",
    "    if depth_index == 0: msg = 'This is for surface water'\n",
    "    else: msg = 'This is for water at ' + str(int(dsTemp['Depth'].values[depth_index])) + ' meters depth'\n",
    "    plt.text(25, -87, msg); plt.text(47, 50, 'temperature of'); plt.text(47, 42, 'ocean water')\n",
    "    \n",
    "def glodap_pNO3(depth_index):\n",
    "    dsNO3['NO3'].sel(depth_surface = depth_index).plot(figsize=(10.4, 6),cmap=cmocean.cm.algae,vmin=2., vmax=40.)\n",
    "    plt.ylabel(None); plt.xlabel(None)\n",
    "    if depth_index == 0: msg = 'This is for surface water'\n",
    "    else: msg = 'This is for water at ' + str(int(dsNO3['Depth'].values[depth_index])) + ' meters depth'\n",
    "    plt.text(25, -87, msg); plt.text(47, 50, 'nitrate in'); plt.text(47, 42, 'ocean water')\n",
    "\n",
    "def glodap_pTCO2(depth_index):\n",
    "    dsTCO2['TCO2'].sel(depth_surface = depth_index).plot(figsize=(10.4, 6), cmap=cmocean.cm.delta, vmin=2000., vmax=2500.)\n",
    "    plt.ylabel(None); plt.xlabel(None)\n",
    "    if depth_index == 0: msg = 'This is for surface water'\n",
    "    else: msg = 'This is for water at ' + str(int(dsTCO2['Depth'].values[depth_index])) + ' meters depth'\n",
    "    plt.text(25, -87, msg); plt.text(47, 50, 'carbon dioxide in'); plt.text(47, 42, 'ocean water')\n",
    "\n",
    "interact(glodap_pO2,   depth_index=widgets.IntSlider(min=0, max=32, step=1, value=0, continuous_update=False, description='depth'))\n",
    "interact(glodap_pSal,  depth_index=widgets.IntSlider(min=0, max=32, step=1, value=0, continuous_update=False, description='depth'))\n",
    "interact(glodap_pTemp, depth_index=widgets.IntSlider(min=0, max=32, step=1, value=0, continuous_update=False, description='depth'))\n",
    "interact(glodap_pNO3,  depth_index=widgets.IntSlider(min=0, max=32, step=1, value=0, continuous_update=False, description='depth'))\n",
    "interact(glodap_pTCO2, depth_index=widgets.IntSlider(min=0, max=32, step=1, value=0, continuous_update=False, description='depth'))\n"
   ]
  },
  {
   "cell_type": "code",
   "execution_count": null,
   "id": "center-shopping",
   "metadata": {
    "scrolled": false
   },
   "outputs": [],
   "source": [
    "dir(plt)"
   ]
  },
  {
   "cell_type": "code",
   "execution_count": null,
   "id": "clinical-enzyme",
   "metadata": {},
   "outputs": [],
   "source": []
  }
 ],
 "metadata": {
  "kernelspec": {
   "display_name": "Python 3 (ipykernel)",
   "language": "python",
   "name": "python3"
  },
  "language_info": {
   "codemirror_mode": {
    "name": "ipython",
    "version": 3
   },
   "file_extension": ".py",
   "mimetype": "text/x-python",
   "name": "python",
   "nbconvert_exporter": "python",
   "pygments_lexer": "ipython3",
   "version": "3.8.5"
  }
 },
 "nbformat": 4,
 "nbformat_minor": 5
}
