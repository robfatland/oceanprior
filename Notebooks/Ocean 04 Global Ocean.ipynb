{
 "cells": [
  {
   "cell_type": "markdown",
   "id": "severe-church",
   "metadata": {},
   "source": [
    "# Introduction\n",
    "\n",
    "This notebook explores the GLODAP global ocean dataset. It uses 300MB in source data and so does not run in **`binder`**.\n",
    "\n",
    "\n",
    "# Global Ocean\n",
    "\n",
    "Concerns a \"circa 2000\" snapshot of the global ocean state: Across temperature, salinity and dissolved oxygen.\n",
    "\n",
    "source: chlorophyll repository, `glodap.ipynb`"
   ]
  },
  {
   "cell_type": "markdown",
   "id": "worthy-makeup",
   "metadata": {},
   "source": [
    "## Exploring GLODAP\n",
    "\n",
    "We are interested in the global ocean as a reservoir of heat, oxygen and salt: Properties\n",
    "that are the basis of the ocean as a global ecosystem.\n",
    "\n",
    "\n",
    "### Technical notes\n",
    "\n",
    "In some cases it may be necessary to enable the Jupyter notebook extension for widgets. \n",
    "From the command line issue `jupyter nbextension enable --py widgetsnbextension`.\n",
    "\n",
    "\n",
    "The data files reside either in a dedicated data filesystem `/data` or in a data subfolder of the user's home directory. \n",
    "Respectively these are for the dedicated VM and the JupyterHub pod user scenarios respectively. There are some \n",
    "corresponding either/or elements of the procedures.  \n",
    "\n",
    "\n",
    "Is the `cmocean` install necessary? Is the `boto` install necessary? It depends again: For JupyterHub pods: Likely necessary. \n",
    "For a pre-configured machine image (the dedicated Virtual Machine scenario): Likely unnecessary since these can be installed\n",
    "when preparing the VM for the image snapshot. \n",
    "\n",
    "\n",
    "On interactive widgets: `https://towardsdatascience.com/bring-your-jupyter-notebook-to-life-with-interactive-widgets-bc12e03f0916`\n",
    "\n",
    "On [GLODAP](https://en.wikipedia.org/wiki/Global_Ocean_Data_Analysis_Project): The data are a snapshot description\n",
    "of the state of the ocean. It is based upon observational data spanning several decades. \n",
    "\n",
    "\n",
    "The data are coarse resolution in the map plane and are located non-linearly in depth. Each slider setting prints\n",
    "the corresponding current depth of the data view on the plot. "
   ]
  },
  {
   "cell_type": "code",
   "execution_count": 1,
   "id": "julian-writer",
   "metadata": {},
   "outputs": [
    {
     "name": "stdout",
     "output_type": "stream",
     "text": [
      "\n",
      "Jupyter Notebook running Python 3\n"
     ]
    }
   ],
   "source": [
    "import os, sys, time, glob, warnings\n",
    "\n",
    "# from IPython.display import clear_output             # use inside loop with clear_output(wait = True) followed by print(i)\n",
    "warnings.filterwarnings('ignore')\n",
    "\n",
    "this_dir = os.getcwd()\n",
    "data_dir = '/data/'                    # fix this\n",
    "\n",
    "from matplotlib import pyplot as plt\n",
    "from matplotlib import colors as mplcolors\n",
    "import numpy as np, pandas as pd, xarray as xr\n",
    "\n",
    "print('\\nJupyter Notebook running Python {}'.format(sys.version_info[0]))\n",
    "\n",
    "# fix this: Initial run of this cell gives a warning message: \n",
    "#\n",
    "# /home/ubuntu/anaconda3/lib/python3.8/site-packages/ipykernel/ipkernel.py:287: DeprecationWarning: \n",
    "# `should_run_async` will not call `transform_cell` automatically in the future. Please pass the \n",
    "# result to `transformed_cell` argument and any exception that happen during thetransform in \n",
    "# `preprocessing_exc_tuple` in IPython 7.17 and above. and should_run_async(code)"
   ]
  },
  {
   "cell_type": "code",
   "execution_count": 2,
   "id": "biological-montgomery",
   "metadata": {},
   "outputs": [
    {
     "ename": "ModuleNotFoundError",
     "evalue": "No module named 'cmocean'",
     "output_type": "error",
     "traceback": [
      "\u001b[0;31m---------------------------------------------------------------------------\u001b[0m",
      "\u001b[0;31mModuleNotFoundError\u001b[0m                       Traceback (most recent call last)",
      "\u001b[0;32m/tmp/ipykernel_223/4263842598.py\u001b[0m in \u001b[0;36m<module>\u001b[0;34m\u001b[0m\n\u001b[1;32m      4\u001b[0m \u001b[0;32mfrom\u001b[0m \u001b[0mtraitlets\u001b[0m \u001b[0;32mimport\u001b[0m \u001b[0mdlink\u001b[0m\u001b[0;34m\u001b[0m\u001b[0;34m\u001b[0m\u001b[0m\n\u001b[1;32m      5\u001b[0m \u001b[0;34m\u001b[0m\u001b[0m\n\u001b[0;32m----> 6\u001b[0;31m \u001b[0;32mimport\u001b[0m \u001b[0mcmocean\u001b[0m                          \u001b[0;31m# color table\u001b[0m\u001b[0;34m\u001b[0m\u001b[0;34m\u001b[0m\u001b[0m\n\u001b[0m",
      "\u001b[0;31mModuleNotFoundError\u001b[0m: No module named 'cmocean'"
     ]
    }
   ],
   "source": [
    "# fix this: consolidate with cell above\n",
    "\n",
    "from ipywidgets import *\n",
    "from traitlets import dlink\n",
    "\n",
    "import cmocean                          # color table"
   ]
  },
  {
   "cell_type": "code",
   "execution_count": null,
   "id": "peripheral-correlation",
   "metadata": {},
   "outputs": [],
   "source": [
    "glodapTemperatureFnm = data_dir + '/glodap/glodap_temperature.nc'\n",
    "glodapSalinityFnm    = data_dir + '/glodap/glodap_salinity.nc'\n",
    "glodapOxygenFnm      = data_dir + '/glodap/glodap_oxygen.nc'\n",
    "\n",
    "glodap_dsSal  = xr.open_mfdataset(glodapSalinityFnm, combine='by_coords')\n",
    "glodap_dsTemp = xr.open_mfdataset(glodapTemperatureFnm, combine='by_coords')\n",
    "glodap_dsO2   = xr.open_mfdataset(glodapOxygenFnm, combine='by_coords')\n",
    "\n",
    "plt.rcParams.update({'font.size': 20})\n",
    "\n",
    "def glodap_pO2(depth_index):\n",
    "    glodap_dsO2['oxygen'].sel(depth_surface = depth_index).plot(figsize=(16, 10),cmap=cmocean.cm.oxy,vmin=150, vmax=350)\n",
    "    if depth_index == 0: msg = 'This is for surface water'\n",
    "    else:                msg = 'This is for water at ' + str(int(glodap_dsO2['Depth'].values[depth_index])) + ' meters depth'\n",
    "    plt.text(25, -87, msg); plt.text(28, 50, 'oxygen dissolved in'); plt.text(28, 42, '     ocean water   ')\n",
    "\n",
    "def glodap_pSal(depth_index):\n",
    "    glodap_dsSal['salinity'].sel(depth_surface = depth_index).plot(figsize=(16, 10),cmap=cmocean.cm.haline,vmin=33, vmax=36)\n",
    "    if depth_index == 0:msg = 'This is for surface water'\n",
    "    else: msg = 'This is for water at ' + str(int(glodap_dsSal['Depth'].values[depth_index])) + ' meters depth'\n",
    "    plt.text(25, -87, msg); plt.text(47, 50, 'salinity of'); plt.text(47, 42, 'ocean water')\n",
    "\n",
    "def glodap_pTemp(depth_index):\n",
    "    glodap_dsTemp['temperature'].sel(depth_surface = depth_index).plot(figsize=(16, 10),cmap=cmocean.cm.thermal,vmin=2., vmax=10.)\n",
    "    if depth_index == 0: msg = 'This is for surface water'\n",
    "    else: msg = 'This is for water at ' + str(int(glodap_dsTemp['Depth'].values[depth_index])) + ' meters depth'\n",
    "    plt.text(25, -87, msg); plt.text(47, 50, 'temperature of'); plt.text(47, 42, 'ocean water')\n",
    "\n",
    "interact(glodap_pO2,   depth_index=widgets.IntSlider(min=0, max=32, step=1, value=5,  continuous_update=False, description='depth'))\n",
    "interact(glodap_pSal,  depth_index=widgets.IntSlider(min=0, max=32, step=1, value=0,  continuous_update=False, description='depth'))\n",
    "interact(glodap_pTemp, depth_index=widgets.IntSlider(min=0, max=32, step=1, value=13, continuous_update=False, description='depth'))\n"
   ]
  },
  {
   "cell_type": "markdown",
   "id": "otherwise-wayne",
   "metadata": {},
   "source": [
    "=========================================================================================\n",
    "\n",
    "## Data Loader\n",
    "\n",
    "Requires boto installed and target (local) data directory /data/glodap exist with write permission."
   ]
  },
  {
   "cell_type": "code",
   "execution_count": 4,
   "id": "center-shopping",
   "metadata": {},
   "outputs": [],
   "source": [
    "if False:         # disabled once the datasets are loaded into /data/glodap\n",
    "\n",
    "    glodapTemperatureFnm = data_dir + '/glodap/glodap_temperature.nc'\n",
    "    glodapSalinityFnm    = data_dir + '/glodap/glodap_salinity.nc'\n",
    "    glodapOxygenFnm      = data_dir + '/glodap/glodap_oxygen.nc'\n",
    "\n",
    "    import boto\n",
    "    from boto.s3.key import Key\n",
    "\n",
    "    connection = boto.connect_s3(anon=True)\n",
    "    bucket = connection.get_bucket('fixthisshouldhavesecurebucketnamehere')\n",
    "\n",
    "    for key in bucket.list(): \n",
    "        filename = key.name.encode('utf-8')\n",
    "        if b'glodap' in filename: \n",
    "            if b'salinity.nc' in filename: \n",
    "                print ('salinity file is', filename)\n",
    "                salinityfilename = filename\n",
    "            if b'temperature.nc' in filename: \n",
    "                print ('temperature file is', filename)\n",
    "                temperaturefilename = filename\n",
    "            if b'oxygen.nc' in filename: \n",
    "                print('oxygen file is', filename)\n",
    "                oxygenfilename = filename            \n",
    "\n",
    "    k = Key(bucket)\n",
    "    k.key = salinityfilename\n",
    "    k.get_contents_to_filename(glodapSalinityFnm)\n",
    "    k.key = temperaturefilename\n",
    "    k.get_contents_to_filename(glodapTemperatureFnm)\n",
    "    k.key = oxygenfilename\n",
    "    k.get_contents_to_filename(glodapOxygenFnm)\n",
    "\n",
    "    print('\\ndata load complete for glodap')"
   ]
  },
  {
   "cell_type": "code",
   "execution_count": 5,
   "id": "forty-birmingham",
   "metadata": {},
   "outputs": [],
   "source": [
    "# fix this: There are some trailing cells of interest and some Holoview code in the source repo"
   ]
  },
  {
   "cell_type": "code",
   "execution_count": null,
   "id": "clinical-enzyme",
   "metadata": {},
   "outputs": [],
   "source": []
  }
 ],
 "metadata": {
  "kernelspec": {
   "display_name": "Python 3 (ipykernel)",
   "language": "python",
   "name": "python3"
  },
  "language_info": {
   "codemirror_mode": {
    "name": "ipython",
    "version": 3
   },
   "file_extension": ".py",
   "mimetype": "text/x-python",
   "name": "python",
   "nbconvert_exporter": "python",
   "pygments_lexer": "ipython3",
   "version": "3.8.5"
  }
 },
 "nbformat": 4,
 "nbformat_minor": 5
}
