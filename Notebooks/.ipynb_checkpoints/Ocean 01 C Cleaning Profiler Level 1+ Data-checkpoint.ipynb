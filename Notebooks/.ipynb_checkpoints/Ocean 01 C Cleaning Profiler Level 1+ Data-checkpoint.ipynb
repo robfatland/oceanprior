{
 "cells": [
  {
   "cell_type": "markdown",
   "id": "fcf387a2",
   "metadata": {},
   "source": [
    "# Introduction\n",
    "\n",
    "This notebook does not run in **binder**.\n",
    "\n",
    "The OOI data system features an extension called Data Explorer. This sub-system is intended to \n",
    "facilitate data exploration and use. For more detail see notebook **Ocean 01 B**. This notebook \n",
    "cleans up Level 1+ NetCDF files obtained from Data Explorer. The results are cleanly sampled at \n",
    "one-minute (\"1Min\") sample spacing.\n"
   ]
  },
  {
   "cell_type": "code",
   "execution_count": 1,
   "id": "de21bee7",
   "metadata": {},
   "outputs": [
    {
     "name": "stdout",
     "output_type": "stream",
     "text": [
      "\n",
      "Jupyter Notebook running Python 3\n"
     ]
    }
   ],
   "source": [
    "import os, sys, time, glob, warnings\n",
    "from IPython.display import clear_output             # use inside loop with clear_output(wait = True) followed by print(i)\n",
    "warnings.filterwarnings('ignore')\n",
    "this_dir = os.getcwd()\n",
    "data_dir = this_dir + '/../../data'                  # large datasets reside outside the repository\n",
    "\n",
    "from matplotlib import pyplot as plt\n",
    "from matplotlib import colors as mplcolors\n",
    "import numpy as np, pandas as pd, xarray as xr\n",
    "from numpy import datetime64 as dt64, timedelta64 as td64\n",
    "\n",
    "# convenience functions abbreviating 'datetime64' and so on\n",
    "def doy(theDatetime): return 1 + int((theDatetime - dt64(str(theDatetime)[0:4] + '-01-01')) / td64(1, 'D'))\n",
    "def dt64_from_doy(year, doy): return dt64(str(year) + '-01-01') + td64(doy-1, 'D')\n",
    "def day_of_month_to_string(d): return str(d) if d > 9 else '0' + str(d)\n",
    "\n",
    "print('\\nJupyter Notebook running Python {}'.format(sys.version_info[0]))"
   ]
  },
  {
   "cell_type": "code",
   "execution_count": 2,
   "id": "da1de38a",
   "metadata": {
    "scrolled": false
   },
   "outputs": [
    {
     "name": "stdout",
     "output_type": "stream",
     "text": [
      "axb_profiler_backscatter.nc > /mnt/d//data/data_explorer_1Min//axb//profiler/axb_profiler_backscatter_1Min.nc with size 3608277\n",
      "axb_profiler_cdom.nc > /mnt/d//data/data_explorer_1Min//axb//profiler/axb_profiler_cdom_1Min.nc with size 3608277\n",
      "axb_profiler_chlora.nc > /mnt/d//data/data_explorer_1Min//axb//profiler/axb_profiler_chlora_1Min.nc with size 3608277\n",
      "axb_profiler_density.nc > /mnt/d//data/data_explorer_1Min//axb//profiler/axb_profiler_density_1Min.nc with size 3608283\n",
      "axb_profiler_doxygen.nc > /mnt/d//data/data_explorer_1Min//axb//profiler/axb_profiler_doxygen_1Min.nc with size 3608283\n",
      "axb_profiler_nitrate.nc > /mnt/d//data/data_explorer_1Min//axb//profiler/axb_profiler_nitrate_1Min.nc with size 3607853\n",
      "axb_profiler_par.nc > /mnt/d//data/data_explorer_1Min//axb//profiler/axb_profiler_par_1Min.nc with size 3598972\n",
      "axb_profiler_pco2.nc > /mnt/d//data/data_explorer_1Min//axb//profiler/axb_profiler_pco2_1Min.nc with size 3607990\n",
      "axb_profiler_ph.nc > /mnt/d//data/data_explorer_1Min//axb//profiler/axb_profiler_ph_1Min.nc with size 3608252\n",
      "axb_profiler_pressure.nc > /mnt/d//data/data_explorer_1Min//axb//profiler/axb_profiler_pressure_1Min.nc with size 3608283\n",
      "axb_profiler_salinity.nc > /mnt/d//data/data_explorer_1Min//axb//profiler/axb_profiler_salinity_1Min.nc with size 3608283\n",
      "axb_profiler_spkir.nc > /mnt/d//data/data_explorer_1Min//axb//profiler/axb_profiler_spkir_1Min.nc with size 3608262\n",
      "axb_profiler_temperature.nc > /mnt/d//data/data_explorer_1Min//axb//profiler/axb_profiler_temperature_1Min.nc with size 3608283\n",
      "axb_profiler_veleast.nc > /mnt/d//data/data_explorer_1Min//axb//profiler/axb_profiler_veleast_1Min.nc with size 3608252\n",
      "axb_profiler_velnorth.nc > /mnt/d//data/data_explorer_1Min//axb//profiler/axb_profiler_velnorth_1Min.nc with size 3608252\n",
      "axb_profiler_velup.nc > /mnt/d//data/data_explorer_1Min//axb//profiler/axb_profiler_velup_1Min.nc with size 3608252\n",
      "axb_platform_backscatter.nc > /mnt/d//data/data_explorer_1Min//axb//platform/axb_platform_backscatter_1Min.nc with size 3616017\n",
      "axb_platform_cdom.nc > /mnt/d//data/data_explorer_1Min//axb//platform/axb_platform_cdom_1Min.nc with size 3616017\n",
      "axb_platform_chlora.nc > /mnt/d//data/data_explorer_1Min//axb//platform/axb_platform_chlora_1Min.nc with size 3616017\n",
      "axb_platform_density.nc > /mnt/d//data/data_explorer_1Min//axb//platform/axb_platform_density_1Min.nc with size 3615533\n",
      "axb_platform_doxygen.nc > /mnt/d//data/data_explorer_1Min//axb//platform/axb_platform_doxygen_1Min.nc with size 1141957\n",
      "axb_platform_doxygen_seawater_CTD.nc > /mnt/d//data/data_explorer_1Min//axb//platform/axb_platform_doxygen_seawater_CTD_1Min.nc with size 3615533\n",
      "axb_platform_doxygen_seawater_DO.nc > /mnt/d//data/data_explorer_1Min//axb//platform/axb_platform_doxygen_seawater_DO_1Min.nc with size 1141957\n",
      "axb_platform_ph.nc > /mnt/d//data/data_explorer_1Min//axb//platform/axb_platform_ph_1Min.nc with size 3615301\n",
      "axb_platform_pressure.nc > /mnt/d//data/data_explorer_1Min//axb//platform/axb_platform_pressure_1Min.nc with size 3615533\n",
      "axb_platform_salinity.nc > /mnt/d//data/data_explorer_1Min//axb//platform/axb_platform_salinity_1Min.nc with size 3615533\n",
      "axb_platform_temperature.nc > /mnt/d//data/data_explorer_1Min//axb//platform/axb_platform_temperature_1Min.nc with size 3615533\n",
      "oos_profiler_backscatter.nc > /mnt/d//data/data_explorer_1Min//oos//profiler/oos_profiler_backscatter_1Min.nc with size 3044356\n",
      "oos_profiler_cdom.nc > /mnt/d//data/data_explorer_1Min//oos//profiler/oos_profiler_cdom_1Min.nc with size 3044356\n",
      "oos_profiler_chlora.nc > /mnt/d//data/data_explorer_1Min//oos//profiler/oos_profiler_chlora_1Min.nc with size 3044356\n",
      "oos_profiler_density.nc > /mnt/d//data/data_explorer_1Min//oos//profiler/oos_profiler_density_1Min.nc with size 3041514\n",
      "oos_profiler_doxygen.nc > /mnt/d//data/data_explorer_1Min//oos//profiler/oos_profiler_doxygen_1Min.nc with size 3041514\n",
      "oos_profiler_nitrate.nc > /mnt/d//data/data_explorer_1Min//oos//profiler/oos_profiler_nitrate_1Min.nc with size 2651433\n",
      "oos_profiler_par.nc > /mnt/d//data/data_explorer_1Min//oos//profiler/oos_profiler_par_1Min.nc with size 2146644\n",
      "oos_profiler_pco2.nc > /mnt/d//data/data_explorer_1Min//oos//profiler/oos_profiler_pco2_1Min.nc with size 2651492\n",
      "oos_profiler_ph.nc > /mnt/d//data/data_explorer_1Min//oos//profiler/oos_profiler_ph_1Min.nc with size 2651493\n",
      "oos_profiler_pressure.nc > /mnt/d//data/data_explorer_1Min//oos//profiler/oos_profiler_pressure_1Min.nc with size 3041514\n",
      "oos_profiler_salinity.nc > /mnt/d//data/data_explorer_1Min//oos//profiler/oos_profiler_salinity_1Min.nc with size 3041514\n",
      "oos_profiler_spkir.nc > /mnt/d//data/data_explorer_1Min//oos//profiler/oos_profiler_spkir_1Min.nc with size 2651651\n",
      "oos_profiler_temperature.nc > /mnt/d//data/data_explorer_1Min//oos//profiler/oos_profiler_temperature_1Min.nc with size 3041514\n",
      "oos_profiler_veleast.nc > /mnt/d//data/data_explorer_1Min//oos//profiler/oos_profiler_veleast_1Min.nc with size 2637158\n",
      "oos_profiler_velnorth.nc > /mnt/d//data/data_explorer_1Min//oos//profiler/oos_profiler_velnorth_1Min.nc with size 2637158\n",
      "oos_profiler_velup.nc > /mnt/d//data/data_explorer_1Min//oos//profiler/oos_profiler_velup_1Min.nc with size 2637158\n",
      "oos_platform_density.nc > /mnt/d//data/data_explorer_1Min//oos//platform/oos_platform_density_1Min.nc with size 3081933\n",
      "oos_platform_doxygen_CTD.nc > /mnt/d//data/data_explorer_1Min//oos//platform/oos_platform_doxygen_CTD_1Min.nc with size 3081933\n",
      "oos_platform_doxygen_DO.nc > /mnt/d//data/data_explorer_1Min//oos//platform/oos_platform_doxygen_DO_1Min.nc with size 934696\n",
      "oos_platform_pco2.nc > /mnt/d//data/data_explorer_1Min//oos//platform/oos_platform_pco2_1Min.nc with size 3081901\n",
      "oos_platform_ph.nc > /mnt/d//data/data_explorer_1Min//oos//platform/oos_platform_ph_1Min.nc with size 2564761\n",
      "oos_platform_pressure.nc > /mnt/d//data/data_explorer_1Min//oos//platform/oos_platform_pressure_1Min.nc with size 3081933\n",
      "oos_platform_salinity.nc > /mnt/d//data/data_explorer_1Min//oos//platform/oos_platform_salinity_1Min.nc with size 3081933\n",
      "oos_platform_temperature.nc > /mnt/d//data/data_explorer_1Min//oos//platform/oos_platform_temperature_1Min.nc with size 3081933\n",
      "oos_platorm_doxygen_seawater_CTD.nc > /mnt/d//data/data_explorer_1Min//oos//platform/oos_platorm_doxygen_seawater_CTD_1Min.nc with size 3081933\n",
      "oos_platorm_doxygen_seawater_DO.nc > /mnt/d//data/data_explorer_1Min//oos//platform/oos_platorm_doxygen_seawater_DO_1Min.nc with size 934696\n",
      "osb_profiler_backscatter.nc > /mnt/d//data/data_explorer_1Min//osb//profiler/osb_profiler_backscatter_1Min.nc with size 3589070\n",
      "osb_profiler_cdom.nc > /mnt/d//data/data_explorer_1Min//osb//profiler/osb_profiler_cdom_1Min.nc with size 3589070\n",
      "osb_profiler_chlora.nc > /mnt/d//data/data_explorer_1Min//osb//profiler/osb_profiler_chlora_1Min.nc with size 3589070\n",
      "osb_profiler_density.nc > /mnt/d//data/data_explorer_1Min//osb//profiler/osb_profiler_density_1Min.nc with size 3588595\n",
      "osb_profiler_doxygen.nc > /mnt/d//data/data_explorer_1Min//osb//profiler/osb_profiler_doxygen_1Min.nc with size 3588595\n",
      "osb_profiler_nitrate.nc > /mnt/d//data/data_explorer_1Min//osb//profiler/osb_profiler_nitrate_1Min.nc with size 3588431\n",
      "osb_profiler_par.nc > /mnt/d//data/data_explorer_1Min//osb//profiler/osb_profiler_par_1Min.nc with size 3587233\n",
      "osb_profiler_pco2.nc > /mnt/d//data/data_explorer_1Min//osb//profiler/osb_profiler_pco2_1Min.nc with size 3385920\n",
      "osb_profiler_ph.nc > /mnt/d//data/data_explorer_1Min//osb//profiler/osb_profiler_ph_1Min.nc with size 3587184\n",
      "osb_profiler_pressure.nc > /mnt/d//data/data_explorer_1Min//osb//profiler/osb_profiler_pressure_1Min.nc with size 3588595\n",
      "osb_profiler_salinity.nc > /mnt/d//data/data_explorer_1Min//osb//profiler/osb_profiler_salinity_1Min.nc with size 3588595\n",
      "osb_profiler_spkir.nc > /mnt/d//data/data_explorer_1Min//osb//profiler/osb_profiler_spkir_1Min.nc with size 3587234\n",
      "osb_profiler_temperature.nc > /mnt/d//data/data_explorer_1Min//osb//profiler/osb_profiler_temperature_1Min.nc with size 3588595\n",
      "osb_profiler_veleast.nc > /mnt/d//data/data_explorer_1Min//osb//profiler/osb_profiler_veleast_1Min.nc with size 3588508\n",
      "osb_profiler_velnorth.nc > /mnt/d//data/data_explorer_1Min//osb//profiler/osb_profiler_velnorth_1Min.nc with size 3588508\n"
     ]
    },
    {
     "name": "stdout",
     "output_type": "stream",
     "text": [
      "osb_profiler_velup.nc > /mnt/d//data/data_explorer_1Min//osb//profiler/osb_profiler_velup_1Min.nc with size 3588508\n",
      "osb_platform_backscatter.nc > /mnt/d//data/data_explorer_1Min//osb//platform/osb_platform_backscatter_1Min.nc with size 3594819\n",
      "osb_platform_cdom.nc > /mnt/d//data/data_explorer_1Min//osb//platform/osb_platform_cdom_1Min.nc with size 3594819\n",
      "osb_platform_chlora.nc > /mnt/d//data/data_explorer_1Min//osb//platform/osb_platform_chlora_1Min.nc with size 3594819\n",
      "osb_platform_density.nc > /mnt/d//data/data_explorer_1Min//osb//platform/osb_platform_density_1Min.nc with size 3594340\n",
      "osb_platform_doxygen.nc > /mnt/d//data/data_explorer_1Min//osb//platform/osb_platform_doxygen_1Min.nc with size 3594340\n",
      "osb_platform_doxygen_seawater_CTD.nc > /mnt/d//data/data_explorer_1Min//osb//platform/osb_platform_doxygen_seawater_CTD_1Min.nc with size 3594340\n",
      "osb_platform_doxygen_seawater_DO.nc > /mnt/d//data/data_explorer_1Min//osb//platform/osb_platform_doxygen_seawater_DO_1Min.nc with size 1438594\n",
      "osb_platform_ph.nc > /mnt/d//data/data_explorer_1Min//osb//platform/osb_platform_ph_1Min.nc with size 3594181\n",
      "osb_platform_pressure.nc > /mnt/d//data/data_explorer_1Min//osb//platform/osb_platform_pressure_1Min.nc with size 3594340\n",
      "osb_platform_salinity.nc > /mnt/d//data/data_explorer_1Min//osb//platform/osb_platform_salinity_1Min.nc with size 3594340\n",
      "osb_platform_temperature.nc > /mnt/d//data/data_explorer_1Min//osb//platform/osb_platform_temperature_1Min.nc with size 3594340\n"
     ]
    }
   ],
   "source": [
    "############################################################\n",
    "# shallow profiler dive timestamp generator\n",
    "############################################################\n",
    "# Datasets extend over the full program from 2014 to download date Aug 2021.\n",
    "# At first look they appear sampled at 1/minute but there are anomalies; \n",
    "#   so to have more confidence this code resamples them at \"1Min\".\n",
    "\n",
    "def StandardizeNetCDFDataset(source_location, datafile):\n",
    "    ds   = xr.open_dataset(source_location + datafile)\n",
    "    ds   = ds.set_coords(\"time\")\n",
    "    ds   = ds.swap_dims({\"row\":\"time\"})\n",
    "    df   = ds.to_dataframe().resample(\"1Min\").mean()\n",
    "    vals = [xr.DataArray(data=df[c], dims=['time'], coords={'time':df.index}, attrs=ds[c].attrs) for c in df.columns]\n",
    "    return xr.Dataset(dict(zip(df.columns, vals)), attrs=ds.attrs)\n",
    "\n",
    "data_root = os.getenv(\"HOME\") + '/data/data_ooi_data_explorer/'\n",
    "out_root  = os.getenv(\"HOME\") + '/data/data_explorer_1Min/'\n",
    "sitekeys  = ['/axb/', '/oos/', '/osb/']\n",
    "framekeys = ['/profiler/', '/platform/']\n",
    "n_sites   = len(sitekeys)\n",
    "n_frames  = len(framekeys)\n",
    "\n",
    "for i in range(n_sites):\n",
    "    for j in range(n_frames):\n",
    "        this_data_path = data_root + sitekeys[i] + framekeys[j]\n",
    "        this_out_path  = out_root + sitekeys[i] + framekeys[j]\n",
    "        possible_datafiles = os.listdir(this_data_path)\n",
    "        datafiles = []\n",
    "        for poss in possible_datafiles:\n",
    "            if poss.split('.')[1] == 'nc': datafiles.append(poss)      \n",
    "        for datafile in datafiles:\n",
    "            ds      = StandardizeNetCDFDataset(this_data_path, datafile)\n",
    "            outfile = this_out_path + datafile.split('.')[0] + '_1Min.nc'\n",
    "            ds.to_netcdf(outfile)\n",
    "            print(datafile, '>', outfile, 'with size', ds.time.shape[0])\n"
   ]
  },
  {
   "cell_type": "code",
   "execution_count": null,
   "id": "319d2e2d",
   "metadata": {},
   "outputs": [],
   "source": []
  }
 ],
 "metadata": {
  "kernelspec": {
   "display_name": "Python 3 (ipykernel)",
   "language": "python",
   "name": "python3"
  },
  "language_info": {
   "codemirror_mode": {
    "name": "ipython",
    "version": 3
   },
   "file_extension": ".py",
   "mimetype": "text/x-python",
   "name": "python",
   "nbconvert_exporter": "python",
   "pygments_lexer": "ipython3",
   "version": "3.8.5"
  }
 },
 "nbformat": 4,
 "nbformat_minor": 5
}
